{
  "nbformat": 4,
  "nbformat_minor": 0,
  "metadata": {
    "colab": {
      "provenance": [],
      "authorship_tag": "ABX9TyPES/hI7ypG695VlbF/T/+D",
      "include_colab_link": true
    },
    "kernelspec": {
      "name": "python3",
      "display_name": "Python 3"
    },
    "language_info": {
      "name": "python"
    }
  },
  "cells": [
    {
      "cell_type": "markdown",
      "metadata": {
        "id": "view-in-github",
        "colab_type": "text"
      },
      "source": [
        "<a href=\"https://colab.research.google.com/github/ABEGAILCANDOLETA/PLNG211-2-OLFU-QC/blob/main/LaboratorY_Activity_No_1.ipynb\" target=\"_parent\"><img src=\"https://colab.research.google.com/assets/colab-badge.svg\" alt=\"Open In Colab\"/></a>"
      ]
    },
    {
      "cell_type": "code",
      "execution_count": null,
      "metadata": {
        "colab": {
          "base_uri": "https://localhost:8080/"
        },
        "id": "wvkO4_rMakZS",
        "outputId": "b37a2dee-6f3b-4bf6-c44e-d75bbe5931c8"
      },
      "outputs": [
        {
          "output_type": "stream",
          "name": "stdout",
          "text": [
            "1\n",
            "2\n",
            "3\n",
            "4\n",
            "5\n",
            "6\n",
            "7\n",
            "8\n",
            "9\n",
            "10\n",
            "Access individual elements\n",
            "1\n",
            "2\n",
            "3\n",
            "4\n",
            "5\n",
            "6\n",
            "7\n",
            "8\n",
            "9\n",
            "10\n",
            "Array Sum=  55\n"
          ]
        }
      ],
      "source": [
        "from array import *\n",
        "array_num = array('i', [1,2,3,4,5,6,7,8,9,10])\n",
        "for i in array_num:\n",
        "    print(i)\n",
        "print(\"Access individual elements\")\n",
        "print(array_num[0])\n",
        "print(array_num[1])\n",
        "print(array_num[2])\n",
        "print(array_num[3])\n",
        "print(array_num[4])\n",
        "print(array_num[5])\n",
        "print(array_num[6])\n",
        "print(array_num[7])\n",
        "print(array_num[8])\n",
        "print(array_num[9])\n",
        "\n",
        "Sum = sum(array_num)\n",
        "print(\"Array Sum= \",Sum)\n"
      ]
    },
    {
      "cell_type": "code",
      "source": [
        "from array import *\n",
        "array_num = array('i', [1,2,3,4,5,6,7,8,9,10])\n",
        "print(\"Original array: \"+str(array_num))\n",
        "print(\"Append 11 at the end of the array:\")\n",
        "array_num.append(11)\n",
        "print(\"New array: \"+str(array_num))\n"
      ],
      "metadata": {
        "id": "bLmyKbPkbq-Y",
        "outputId": "fb968e85-5d76-4633-9c7b-bf9acb413849",
        "colab": {
          "base_uri": "https://localhost:8080/"
        }
      },
      "execution_count": 1,
      "outputs": [
        {
          "output_type": "stream",
          "name": "stdout",
          "text": [
            "Original array: array('i', [1, 2, 3, 4, 5, 6, 7, 8, 9, 10])\n",
            "Append 11 at the end of the array:\n",
            "New array: array('i', [1, 2, 3, 4, 5, 6, 7, 8, 9, 10, 11])\n"
          ]
        }
      ]
    }
  ]
}