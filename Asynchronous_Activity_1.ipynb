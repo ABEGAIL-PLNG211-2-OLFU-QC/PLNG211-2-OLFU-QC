{
  "nbformat": 4,
  "nbformat_minor": 0,
  "metadata": {
    "colab": {
      "provenance": [],
      "authorship_tag": "ABX9TyPwAkCqxOoMtyLa/t6N5x7o",
      "include_colab_link": true
    },
    "kernelspec": {
      "name": "python3",
      "display_name": "Python 3"
    },
    "language_info": {
      "name": "python"
    }
  },
  "cells": [
    {
      "cell_type": "markdown",
      "metadata": {
        "id": "view-in-github",
        "colab_type": "text"
      },
      "source": [
        "<a href=\"https://colab.research.google.com/github/ABEGAIL-PLNG211-2-OLFU-QC/PLNG211-2-OLFU-QC/blob/main/Asynchronous_Activity_1.ipynb\" target=\"_parent\"><img src=\"https://colab.research.google.com/assets/colab-badge.svg\" alt=\"Open In Colab\"/></a>"
      ]
    },
    {
      "cell_type": "code",
      "execution_count": 2,
      "metadata": {
        "colab": {
          "base_uri": "https://localhost:8080/"
        },
        "id": "riESxhhBhLOP",
        "outputId": "57fd99f7-098e-44c9-9a31-7e6051e18cb2"
      },
      "outputs": [
        {
          "output_type": "stream",
          "name": "stdout",
          "text": [
            "Salary:  9000\n",
            "Taxable Amount:  2700.0\n",
            "Net Pay:  6300.0\n"
          ]
        }
      ],
      "source": [
        "Rate=600\n",
        "Salary=600*15\n",
        "Tax=Salary*0.3\n",
        "Net_pay=Salary-Tax\n",
        "print(\"Salary: \", Salary)\n",
        "print(\"Taxable Amount: \", Tax)\n",
        "print(\"Net Pay: \", Net_pay)"
      ]
    }
  ]
}