{
  "nbformat": 4,
  "nbformat_minor": 0,
  "metadata": {
    "colab": {
      "provenance": [],
      "authorship_tag": "ABX9TyOKb4y39yh4rFoQuhZVLcIy",
      "include_colab_link": true
    },
    "kernelspec": {
      "name": "python3",
      "display_name": "Python 3"
    },
    "language_info": {
      "name": "python"
    }
  },
  "cells": [
    {
      "cell_type": "markdown",
      "metadata": {
        "id": "view-in-github",
        "colab_type": "text"
      },
      "source": [
        "<a href=\"https://colab.research.google.com/github/ABEGAILCANDOLETA/PLNG211-2-OLFU-QC/blob/main/Laboratory_Activity_No_2.ipynb\" target=\"_parent\"><img src=\"https://colab.research.google.com/assets/colab-badge.svg\" alt=\"Open In Colab\"/></a>"
      ]
    },
    {
      "cell_type": "code",
      "execution_count": 1,
      "metadata": {
        "colab": {
          "base_uri": "https://localhost:8080/"
        },
        "id": "CVRExaO6f2fD",
        "outputId": "77bb9a26-6a40-4568-a1d0-ed6d0fa79c4f"
      },
      "outputs": [
        {
          "output_type": "stream",
          "name": "stdout",
          "text": [
            "Hi, my name is Abegail Candoleta\n",
            "My student number is 022100002999\n",
            "I am 20 years old\n",
            "My course is BSCS in Our Lady of Fatima University\n"
          ]
        }
      ],
      "source": [
        "class Student:\n",
        "  name = \"Abegail Candoleta\"\n",
        "  stud_num = \"022100002999\"\n",
        "  age = \"20\"\n",
        "  school = \"Our Lady of Fatima University\"\n",
        "  course = \"BSCS\"\n",
        "\n",
        "  def info(self):\n",
        "    print(\"Hi, my name is \" + self.name)\n",
        "    print(\"My student number is \" + self.stud_num)\n",
        "    print(\"I am \" + self.age + \" years old\")\n",
        "    print(\"My course is \" + self.course + \" in \" + self.school)\n",
        "p1 = Student()\n",
        "\n",
        "p1.info()"
      ]
    }
  ]
}